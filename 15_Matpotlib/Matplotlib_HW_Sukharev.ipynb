{
 "cells": [
  {
   "cell_type": "code",
   "execution_count": 85,
   "metadata": {},
   "outputs": [],
   "source": [
    "import pandas as pd\n",
    "import numpy as np\n",
    "import matplotlib.pyplot as plt\n",
    "import seaborn as sns"
   ]
  },
  {
   "cell_type": "code",
   "execution_count": 3,
   "metadata": {},
   "outputs": [
    {
     "data": {
      "text/html": [
       "<div>\n",
       "<style scoped>\n",
       "    .dataframe tbody tr th:only-of-type {\n",
       "        vertical-align: middle;\n",
       "    }\n",
       "\n",
       "    .dataframe tbody tr th {\n",
       "        vertical-align: top;\n",
       "    }\n",
       "\n",
       "    .dataframe thead tr th {\n",
       "        text-align: left;\n",
       "    }\n",
       "</style>\n",
       "<table border=\"1\" class=\"dataframe\">\n",
       "  <thead>\n",
       "    <tr>\n",
       "      <th></th>\n",
       "      <th colspan=\"9\" halign=\"left\">Города Российской Федерации</th>\n",
       "    </tr>\n",
       "    <tr>\n",
       "      <th></th>\n",
       "      <th>№</th>\n",
       "      <th>Герб</th>\n",
       "      <th>Город</th>\n",
       "      <th>Регион</th>\n",
       "      <th>Федеральный округ</th>\n",
       "      <th>Население</th>\n",
       "      <th>Основание илипервое упоминание</th>\n",
       "      <th>Статус города[5]</th>\n",
       "      <th>Прежние названия</th>\n",
       "    </tr>\n",
       "  </thead>\n",
       "  <tbody>\n",
       "    <tr>\n",
       "      <th>0</th>\n",
       "      <td>1</td>\n",
       "      <td>NaN</td>\n",
       "      <td>Абаза</td>\n",
       "      <td>Хакасия</td>\n",
       "      <td>Сибирский</td>\n",
       "      <td>17111</td>\n",
       "      <td>1867</td>\n",
       "      <td>1966</td>\n",
       "      <td>Абаканский Завод, Абаканско-Заводское</td>\n",
       "    </tr>\n",
       "    <tr>\n",
       "      <th>1</th>\n",
       "      <td>2</td>\n",
       "      <td>NaN</td>\n",
       "      <td>Абакан</td>\n",
       "      <td>Хакасия</td>\n",
       "      <td>Сибирский</td>\n",
       "      <td>165183</td>\n",
       "      <td>1734</td>\n",
       "      <td>1931</td>\n",
       "      <td>Усть-Абаканское (до 1931)</td>\n",
       "    </tr>\n",
       "    <tr>\n",
       "      <th>2</th>\n",
       "      <td>3</td>\n",
       "      <td>NaN</td>\n",
       "      <td>Абдулино</td>\n",
       "      <td>Оренбургская область</td>\n",
       "      <td>Приволжский</td>\n",
       "      <td>20663</td>\n",
       "      <td>1795</td>\n",
       "      <td>1923</td>\n",
       "      <td>NaN</td>\n",
       "    </tr>\n",
       "  </tbody>\n",
       "</table>\n",
       "</div>"
      ],
      "text/plain": [
       "  Города Российской Федерации                                       \\\n",
       "                            № Герб     Город                Регион   \n",
       "0                           1  NaN     Абаза               Хакасия   \n",
       "1                           2  NaN    Абакан               Хакасия   \n",
       "2                           3  NaN  Абдулино  Оренбургская область   \n",
       "\n",
       "                                                                               \\\n",
       "  Федеральный округ Население Основание илипервое упоминание Статус города[5]   \n",
       "0         Сибирский     17111                           1867             1966   \n",
       "1         Сибирский    165183                           1734             1931   \n",
       "2       Приволжский     20663                           1795             1923   \n",
       "\n",
       "                                          \n",
       "                        Прежние названия  \n",
       "0  Абаканский Завод, Абаканско-Заводское  \n",
       "1              Усть-Абаканское (до 1931)  \n",
       "2                                    NaN  "
      ]
     },
     "execution_count": 3,
     "metadata": {},
     "output_type": "execute_result"
    }
   ],
   "source": [
    "# Достанем таблицу городов России из Википедии (https://ru.wikipedia.org/wiki/Список_городов_России)\n",
    "wiki = pd.read_html('https://ru.wikipedia.org/wiki/%D0%A1%D0%BF%D0%B8%D1%81%D0%BE%D0%BA_%D0%B3%D0%BE%D1%80%D0%BE%D0%B4%D0%BE%D0%B2_%D0%A0%D0%BE%D1%81%D1%81%D0%B8%D0%B8')[0]\n",
    "wiki.head(3)"
   ]
  },
  {
   "cell_type": "code",
   "execution_count": 4,
   "metadata": {},
   "outputs": [
    {
     "name": "stdout",
     "output_type": "stream",
     "text": [
      "<class 'pandas.core.frame.DataFrame'>\n",
      "RangeIndex: 1117 entries, 0 to 1116\n",
      "Data columns (total 9 columns):\n",
      " #   Column                                                         Non-Null Count  Dtype  \n",
      "---  ------                                                         --------------  -----  \n",
      " 0   (Города Российской Федерации, №)                               1117 non-null   int64  \n",
      " 1   (Города Российской Федерации, Герб)                            0 non-null      float64\n",
      " 2   (Города Российской Федерации, Город)                           1117 non-null   object \n",
      " 3   (Города Российской Федерации, Регион)                          1117 non-null   object \n",
      " 4   (Города Российской Федерации, Федеральный округ)               1117 non-null   object \n",
      " 5   (Города Российской Федерации, Население)                       1117 non-null   object \n",
      " 6   (Города Российской Федерации, Основание илипервое упоминание)  1117 non-null   object \n",
      " 7   (Города Российской Федерации, Статус города[5])                1112 non-null   object \n",
      " 8   (Города Российской Федерации, Прежние названия)                581 non-null    object \n",
      "dtypes: float64(1), int64(1), object(7)\n",
      "memory usage: 78.7+ KB\n"
     ]
    }
   ],
   "source": [
    "wiki.info()"
   ]
  },
  {
   "cell_type": "code",
   "execution_count": 5,
   "metadata": {},
   "outputs": [
    {
     "data": {
      "text/html": [
       "<div>\n",
       "<style scoped>\n",
       "    .dataframe tbody tr th:only-of-type {\n",
       "        vertical-align: middle;\n",
       "    }\n",
       "\n",
       "    .dataframe tbody tr th {\n",
       "        vertical-align: top;\n",
       "    }\n",
       "\n",
       "    .dataframe thead th {\n",
       "        text-align: right;\n",
       "    }\n",
       "</style>\n",
       "<table border=\"1\" class=\"dataframe\">\n",
       "  <thead>\n",
       "    <tr style=\"text-align: right;\">\n",
       "      <th></th>\n",
       "      <th>city</th>\n",
       "      <th>region</th>\n",
       "      <th>okrug</th>\n",
       "      <th>population</th>\n",
       "      <th>est_date</th>\n",
       "      <th>status_date</th>\n",
       "    </tr>\n",
       "  </thead>\n",
       "  <tbody>\n",
       "    <tr>\n",
       "      <th>0</th>\n",
       "      <td>Абаза</td>\n",
       "      <td>Хакасия</td>\n",
       "      <td>Сибирский</td>\n",
       "      <td>17111</td>\n",
       "      <td>1867</td>\n",
       "      <td>1966</td>\n",
       "    </tr>\n",
       "    <tr>\n",
       "      <th>1</th>\n",
       "      <td>Абакан</td>\n",
       "      <td>Хакасия</td>\n",
       "      <td>Сибирский</td>\n",
       "      <td>165183</td>\n",
       "      <td>1734</td>\n",
       "      <td>1931</td>\n",
       "    </tr>\n",
       "    <tr>\n",
       "      <th>2</th>\n",
       "      <td>Абдулино</td>\n",
       "      <td>Оренбургская область</td>\n",
       "      <td>Приволжский</td>\n",
       "      <td>20663</td>\n",
       "      <td>1795</td>\n",
       "      <td>1923</td>\n",
       "    </tr>\n",
       "    <tr>\n",
       "      <th>3</th>\n",
       "      <td>Абинск</td>\n",
       "      <td>Краснодарский край</td>\n",
       "      <td>Южный</td>\n",
       "      <td>34926</td>\n",
       "      <td>1863</td>\n",
       "      <td>1963</td>\n",
       "    </tr>\n",
       "    <tr>\n",
       "      <th>4</th>\n",
       "      <td>Агидель</td>\n",
       "      <td>Башкортостан</td>\n",
       "      <td>Приволжский</td>\n",
       "      <td>16365</td>\n",
       "      <td>1980</td>\n",
       "      <td>1991</td>\n",
       "    </tr>\n",
       "  </tbody>\n",
       "</table>\n",
       "</div>"
      ],
      "text/plain": [
       "       city                region        okrug population est_date status_date\n",
       "0     Абаза               Хакасия    Сибирский      17111     1867        1966\n",
       "1    Абакан               Хакасия    Сибирский     165183     1734        1931\n",
       "2  Абдулино  Оренбургская область  Приволжский      20663     1795        1923\n",
       "3    Абинск    Краснодарский край        Южный      34926     1863        1963\n",
       "4   Агидель          Башкортостан  Приволжский      16365     1980        1991"
      ]
     },
     "execution_count": 5,
     "metadata": {},
     "output_type": "execute_result"
    }
   ],
   "source": [
    "# Выберем нужные нам столбцы и переименуем их на англ. лад\n",
    "cities = wiki['Города Российской Федерации'][['Город', 'Регион', 'Федеральный округ', 'Население', 'Основание илипервое упоминание', 'Статус города[5]']]\n",
    "cities.columns = ['city', 'region', 'okrug', 'population', 'est_date', 'status_date']\n",
    "cities.head()"
   ]
  },
  {
   "cell_type": "code",
   "execution_count": 6,
   "metadata": {},
   "outputs": [
    {
     "data": {
      "text/html": [
       "<div>\n",
       "<style scoped>\n",
       "    .dataframe tbody tr th:only-of-type {\n",
       "        vertical-align: middle;\n",
       "    }\n",
       "\n",
       "    .dataframe tbody tr th {\n",
       "        vertical-align: top;\n",
       "    }\n",
       "\n",
       "    .dataframe thead th {\n",
       "        text-align: right;\n",
       "    }\n",
       "</style>\n",
       "<table border=\"1\" class=\"dataframe\">\n",
       "  <thead>\n",
       "    <tr style=\"text-align: right;\">\n",
       "      <th></th>\n",
       "      <th>city</th>\n",
       "      <th>region</th>\n",
       "      <th>okrug</th>\n",
       "      <th>population</th>\n",
       "      <th>est_date</th>\n",
       "      <th>status_date</th>\n",
       "    </tr>\n",
       "  </thead>\n",
       "  <tbody>\n",
       "    <tr>\n",
       "      <th>339</th>\n",
       "      <td>Иннополис</td>\n",
       "      <td>Татарстан</td>\n",
       "      <td>Приволжский</td>\n",
       "      <td>96[3]</td>\n",
       "      <td>2012</td>\n",
       "      <td>2015</td>\n",
       "    </tr>\n",
       "    <tr>\n",
       "      <th>488</th>\n",
       "      <td>Кудрово</td>\n",
       "      <td>Ленинградская область</td>\n",
       "      <td>Северо-Западный</td>\n",
       "      <td>13501[4]</td>\n",
       "      <td>1926</td>\n",
       "      <td>2018</td>\n",
       "    </tr>\n",
       "    <tr>\n",
       "      <th>492</th>\n",
       "      <td>Кукмор</td>\n",
       "      <td>Татарстан</td>\n",
       "      <td>Приволжский</td>\n",
       "      <td>17700[4]</td>\n",
       "      <td>1741</td>\n",
       "      <td>2017</td>\n",
       "    </tr>\n",
       "    <tr>\n",
       "      <th>607</th>\n",
       "      <td>Мурино</td>\n",
       "      <td>Ленинградская область</td>\n",
       "      <td>Северо-Западный</td>\n",
       "      <td>19775[4]</td>\n",
       "      <td>1676</td>\n",
       "      <td>2019</td>\n",
       "    </tr>\n",
       "    <tr>\n",
       "      <th>925</th>\n",
       "      <td>Сунжа</td>\n",
       "      <td>Ингушетия</td>\n",
       "      <td>Северо-Кавказский</td>\n",
       "      <td>64493[3]</td>\n",
       "      <td>1845</td>\n",
       "      <td>2016</td>\n",
       "    </tr>\n",
       "  </tbody>\n",
       "</table>\n",
       "</div>"
      ],
      "text/plain": [
       "          city                 region              okrug population est_date  \\\n",
       "339  Иннополис              Татарстан        Приволжский      96[3]     2012   \n",
       "488    Кудрово  Ленинградская область    Северо-Западный   13501[4]     1926   \n",
       "492     Кукмор              Татарстан        Приволжский   17700[4]     1741   \n",
       "607     Мурино  Ленинградская область    Северо-Западный   19775[4]     1676   \n",
       "925      Сунжа              Ингушетия  Северо-Кавказский   64493[3]     1845   \n",
       "\n",
       "    status_date  \n",
       "339        2015  \n",
       "488        2018  \n",
       "492        2017  \n",
       "607        2019  \n",
       "925        2016  "
      ]
     },
     "execution_count": 6,
     "metadata": {},
     "output_type": "execute_result"
    }
   ],
   "source": [
    "# В столбце с населением встречаются нецифровые символы\n",
    "cities[cities.population.str.contains(r'\\D')]"
   ]
  },
  {
   "cell_type": "code",
   "execution_count": 8,
   "metadata": {},
   "outputs": [],
   "source": [
    "# Уберём их, а заодно и уберем 'Оспаривается' из названий городов\n",
    "cities['population'] = cities.population.str.replace('[4]', '', regex=False)\n",
    "cities['population'] = cities.population.str.replace('[3]', '', regex=False)\n",
    "cities['city'] = cities.city.str.replace('Оспаривается', '', regex=False)"
   ]
  },
  {
   "cell_type": "code",
   "execution_count": 9,
   "metadata": {},
   "outputs": [
    {
     "data": {
      "text/plain": [
       "XVIII век                15\n",
       "XVII век                 14\n",
       "XVI век                  14\n",
       "XIV век                   8\n",
       "XV век                    8\n",
       "XIX век                   8\n",
       "XII век                   7\n",
       "XIII век                  4\n",
       "1730-е                    2\n",
       "VIII—IX века              1\n",
       "1870-е                    1\n",
       "1378 или 1384             1\n",
       "XI век                    1\n",
       "сер. XVIII века           1\n",
       "XX век                    1\n",
       "VI век                    1\n",
       "1380-е                    1\n",
       "1710-е                    1\n",
       "VII — VI век до н. э.     1\n",
       "1920-е                    1\n",
       "IX-X века                 1\n",
       "497 год до н. э.          1\n",
       "VI век до н. э.           1\n",
       "Name: est_date, dtype: int64"
      ]
     },
     "execution_count": 9,
     "metadata": {},
     "output_type": "execute_result"
    }
   ],
   "source": [
    "# В колонке с датой основания встречаются нецифровые символы\n",
    "cities[cities.est_date.str.contains(r'\\D')].est_date.value_counts()"
   ]
  },
  {
   "cell_type": "code",
   "execution_count": 10,
   "metadata": {},
   "outputs": [],
   "source": [
    "def define_year(x):\n",
    "    \"\"\"Функция определения года в целочисленном формате для списка городов из Вики\n",
    "    \n",
    "    Содержит некоторые замены строковых дат типа 'XI век' на целые числа типа 1050;\n",
    "    \"\"\"\n",
    "    if x == 'XI век':\n",
    "        return '1050'\n",
    "    elif x == 'XII век':\n",
    "        return '1150'\n",
    "    elif x == 'XIII век':\n",
    "        return '1250'\n",
    "    elif x == 'XIV век':\n",
    "        return '1350'\n",
    "    elif x == 'XV век':\n",
    "        return '1450'\n",
    "    elif x == 'XVI век':\n",
    "        return '1550'\n",
    "    elif x == 'XVII век':\n",
    "        return '1650'\n",
    "    elif x == 'XVIII век':\n",
    "        return '1750'\n",
    "    elif x == 'XIX век':\n",
    "        return '1850'\n",
    "    elif x == 'XX век':\n",
    "        return '1950'\n",
    "    elif x == 'IX-X века':\n",
    "        return '900'\n",
    "    elif x == 'VIII—IX века':\n",
    "        return '800'\n",
    "    elif x == '1378 или 1384':\n",
    "        return '1378'\n",
    "    elif x == 'VI век':\n",
    "        return '550'\n",
    "    elif x == '1870-е':\n",
    "        return '1875'\n",
    "    elif x == 'VII — VI век до н. э.':\n",
    "        return '-600'\n",
    "    elif x == 'VI век до н. э.':\n",
    "        return '-550'\n",
    "    elif x == '497 год до н. э.':\n",
    "        return '-497'\n",
    "    elif x == 'сер. XVIII века':\n",
    "        return '1750'\n",
    "    elif x == '1730-е':\n",
    "        return '1735'\n",
    "    elif x == '1710-е':\n",
    "        return '1715'\n",
    "    elif x == '1920-е':\n",
    "        return '1925'\n",
    "    elif x == '1380-е':\n",
    "        return '1385'\n",
    "    else:\n",
    "        return x"
   ]
  },
  {
   "cell_type": "code",
   "execution_count": 11,
   "metadata": {},
   "outputs": [
    {
     "data": {
      "text/html": [
       "<div>\n",
       "<style scoped>\n",
       "    .dataframe tbody tr th:only-of-type {\n",
       "        vertical-align: middle;\n",
       "    }\n",
       "\n",
       "    .dataframe tbody tr th {\n",
       "        vertical-align: top;\n",
       "    }\n",
       "\n",
       "    .dataframe thead th {\n",
       "        text-align: right;\n",
       "    }\n",
       "</style>\n",
       "<table border=\"1\" class=\"dataframe\">\n",
       "  <thead>\n",
       "    <tr style=\"text-align: right;\">\n",
       "      <th></th>\n",
       "      <th>city</th>\n",
       "      <th>region</th>\n",
       "      <th>okrug</th>\n",
       "      <th>population</th>\n",
       "      <th>est_date</th>\n",
       "      <th>status_date</th>\n",
       "      <th>est_year</th>\n",
       "    </tr>\n",
       "  </thead>\n",
       "  <tbody>\n",
       "    <tr>\n",
       "      <th>272</th>\n",
       "      <td>Евпатория</td>\n",
       "      <td>Крым</td>\n",
       "      <td>Южный</td>\n",
       "      <td>105719</td>\n",
       "      <td>497 год до н. э.</td>\n",
       "      <td>1784</td>\n",
       "      <td>-497</td>\n",
       "    </tr>\n",
       "    <tr>\n",
       "      <th>395</th>\n",
       "      <td>Керчь</td>\n",
       "      <td>Крым</td>\n",
       "      <td>Южный</td>\n",
       "      <td>147033</td>\n",
       "      <td>VII — VI век до н. э.</td>\n",
       "      <td>NaN</td>\n",
       "      <td>-600</td>\n",
       "    </tr>\n",
       "    <tr>\n",
       "      <th>1017</th>\n",
       "      <td>Феодосия</td>\n",
       "      <td>Крым</td>\n",
       "      <td>Южный</td>\n",
       "      <td>69038</td>\n",
       "      <td>VI век до н. э.</td>\n",
       "      <td>NaN</td>\n",
       "      <td>-550</td>\n",
       "    </tr>\n",
       "  </tbody>\n",
       "</table>\n",
       "</div>"
      ],
      "text/plain": [
       "           city region  okrug population               est_date status_date  \\\n",
       "272   Евпатория   Крым  Южный     105719       497 год до н. э.        1784   \n",
       "395       Керчь   Крым  Южный     147033  VII — VI век до н. э.         NaN   \n",
       "1017   Феодосия   Крым  Южный      69038        VI век до н. э.         NaN   \n",
       "\n",
       "     est_year  \n",
       "272      -497  \n",
       "395      -600  \n",
       "1017     -550  "
      ]
     },
     "execution_count": 11,
     "metadata": {},
     "output_type": "execute_result"
    }
   ],
   "source": [
    "# Создадим новый столбец с целочисленным годом основания, который определяется с помощью ф-ии выше\n",
    "cities['est_year'] = cities.est_date.apply(define_year)\n",
    "cities[cities.est_year.str.contains(r'\\D')]    # Проверим, не осталось ли чего лишнего"
   ]
  },
  {
   "cell_type": "code",
   "execution_count": 12,
   "metadata": {},
   "outputs": [
    {
     "data": {
      "text/html": [
       "<div>\n",
       "<style scoped>\n",
       "    .dataframe tbody tr th:only-of-type {\n",
       "        vertical-align: middle;\n",
       "    }\n",
       "\n",
       "    .dataframe tbody tr th {\n",
       "        vertical-align: top;\n",
       "    }\n",
       "\n",
       "    .dataframe thead th {\n",
       "        text-align: right;\n",
       "    }\n",
       "</style>\n",
       "<table border=\"1\" class=\"dataframe\">\n",
       "  <thead>\n",
       "    <tr style=\"text-align: right;\">\n",
       "      <th></th>\n",
       "      <th>city</th>\n",
       "      <th>region</th>\n",
       "      <th>okrug</th>\n",
       "      <th>population</th>\n",
       "      <th>est_date</th>\n",
       "      <th>status_date</th>\n",
       "      <th>est_year</th>\n",
       "    </tr>\n",
       "  </thead>\n",
       "  <tbody>\n",
       "    <tr>\n",
       "      <th>85</th>\n",
       "      <td>Белогорск</td>\n",
       "      <td>Крым</td>\n",
       "      <td>Южный</td>\n",
       "      <td>16354</td>\n",
       "      <td>XIII век</td>\n",
       "      <td>XIII век</td>\n",
       "      <td>1250</td>\n",
       "    </tr>\n",
       "    <tr>\n",
       "      <th>264</th>\n",
       "      <td>Дорогобуж</td>\n",
       "      <td>Смоленская область</td>\n",
       "      <td>Центральный</td>\n",
       "      <td>10720</td>\n",
       "      <td>1150</td>\n",
       "      <td>XIII век</td>\n",
       "      <td>1150</td>\n",
       "    </tr>\n",
       "    <tr>\n",
       "      <th>817</th>\n",
       "      <td>Рыльск</td>\n",
       "      <td>Курская область</td>\n",
       "      <td>Центральный</td>\n",
       "      <td>15667</td>\n",
       "      <td>1152</td>\n",
       "      <td>XII век</td>\n",
       "      <td>1152</td>\n",
       "    </tr>\n",
       "  </tbody>\n",
       "</table>\n",
       "</div>"
      ],
      "text/plain": [
       "          city              region        okrug population  est_date  \\\n",
       "85   Белогорск                Крым        Южный      16354  XIII век   \n",
       "264  Дорогобуж  Смоленская область  Центральный      10720      1150   \n",
       "817     Рыльск     Курская область  Центральный      15667      1152   \n",
       "\n",
       "    status_date est_year  \n",
       "85     XIII век     1250  \n",
       "264    XIII век     1150  \n",
       "817     XII век     1152  "
      ]
     },
     "execution_count": 12,
     "metadata": {},
     "output_type": "execute_result"
    }
   ],
   "source": [
    "# В столбце с датой статуса города встречаются нецифровые символы\n",
    "cities.fillna('0', inplace=True)\n",
    "cities[cities.status_date.str.contains(r'\\D')]"
   ]
  },
  {
   "cell_type": "code",
   "execution_count": 13,
   "metadata": {},
   "outputs": [
    {
     "data": {
      "text/html": [
       "<div>\n",
       "<style scoped>\n",
       "    .dataframe tbody tr th:only-of-type {\n",
       "        vertical-align: middle;\n",
       "    }\n",
       "\n",
       "    .dataframe tbody tr th {\n",
       "        vertical-align: top;\n",
       "    }\n",
       "\n",
       "    .dataframe thead th {\n",
       "        text-align: right;\n",
       "    }\n",
       "</style>\n",
       "<table border=\"1\" class=\"dataframe\">\n",
       "  <thead>\n",
       "    <tr style=\"text-align: right;\">\n",
       "      <th></th>\n",
       "      <th>city</th>\n",
       "      <th>region</th>\n",
       "      <th>okrug</th>\n",
       "      <th>population</th>\n",
       "      <th>est_date</th>\n",
       "      <th>status_date</th>\n",
       "      <th>est_year</th>\n",
       "    </tr>\n",
       "  </thead>\n",
       "  <tbody>\n",
       "    <tr>\n",
       "      <th>84</th>\n",
       "      <td>Белогорск</td>\n",
       "      <td>Амурская область</td>\n",
       "      <td>Дальневосточный</td>\n",
       "      <td>68220</td>\n",
       "      <td>1860</td>\n",
       "      <td>1926</td>\n",
       "      <td>1860</td>\n",
       "    </tr>\n",
       "    <tr>\n",
       "      <th>85</th>\n",
       "      <td>Белогорск</td>\n",
       "      <td>Крым</td>\n",
       "      <td>Южный</td>\n",
       "      <td>16354</td>\n",
       "      <td>XIII век</td>\n",
       "      <td>1250</td>\n",
       "      <td>1250</td>\n",
       "    </tr>\n",
       "  </tbody>\n",
       "</table>\n",
       "</div>"
      ],
      "text/plain": [
       "         city            region            okrug population  est_date  \\\n",
       "84  Белогорск  Амурская область  Дальневосточный      68220      1860   \n",
       "85  Белогорск              Крым            Южный      16354  XIII век   \n",
       "\n",
       "   status_date est_year  \n",
       "84        1926     1860  \n",
       "85        1250     1250  "
      ]
     },
     "execution_count": 13,
     "metadata": {},
     "output_type": "execute_result"
    }
   ],
   "source": [
    "# Поменяем эти три даты на целочисленные года прямо в столбце\n",
    "cities['status_date'] = cities.status_date.apply(define_year)\n",
    "cities[cities.city == 'Белогорск']    # Проверим одну из замен"
   ]
  },
  {
   "cell_type": "code",
   "execution_count": 14,
   "metadata": {},
   "outputs": [],
   "source": [
    "# переопределим столбцы населения и с годами основания как int\n",
    "cities['population'] = cities.population.astype('int64')\n",
    "cities['est_year'] = cities.est_year.astype('int64')\n",
    "cities['status_date'] = cities.status_date.astype('int64')"
   ]
  },
  {
   "cell_type": "code",
   "execution_count": 15,
   "metadata": {},
   "outputs": [
    {
     "data": {
      "text/html": [
       "<div>\n",
       "<style scoped>\n",
       "    .dataframe tbody tr th:only-of-type {\n",
       "        vertical-align: middle;\n",
       "    }\n",
       "\n",
       "    .dataframe tbody tr th {\n",
       "        vertical-align: top;\n",
       "    }\n",
       "\n",
       "    .dataframe thead th {\n",
       "        text-align: right;\n",
       "    }\n",
       "</style>\n",
       "<table border=\"1\" class=\"dataframe\">\n",
       "  <thead>\n",
       "    <tr style=\"text-align: right;\">\n",
       "      <th></th>\n",
       "      <th>city</th>\n",
       "      <th>region</th>\n",
       "      <th>okrug</th>\n",
       "      <th>population</th>\n",
       "      <th>est_date</th>\n",
       "      <th>status_date</th>\n",
       "      <th>est_year</th>\n",
       "      <th>est_century</th>\n",
       "    </tr>\n",
       "  </thead>\n",
       "  <tbody>\n",
       "    <tr>\n",
       "      <th>395</th>\n",
       "      <td>Керчь</td>\n",
       "      <td>Крым</td>\n",
       "      <td>Южный</td>\n",
       "      <td>147033</td>\n",
       "      <td>VII — VI век до н. э.</td>\n",
       "      <td>0</td>\n",
       "      <td>-600</td>\n",
       "      <td>-6</td>\n",
       "    </tr>\n",
       "    <tr>\n",
       "      <th>1017</th>\n",
       "      <td>Феодосия</td>\n",
       "      <td>Крым</td>\n",
       "      <td>Южный</td>\n",
       "      <td>69038</td>\n",
       "      <td>VI век до н. э.</td>\n",
       "      <td>0</td>\n",
       "      <td>-550</td>\n",
       "      <td>-6</td>\n",
       "    </tr>\n",
       "    <tr>\n",
       "      <th>272</th>\n",
       "      <td>Евпатория</td>\n",
       "      <td>Крым</td>\n",
       "      <td>Южный</td>\n",
       "      <td>105719</td>\n",
       "      <td>497 год до н. э.</td>\n",
       "      <td>1784</td>\n",
       "      <td>-497</td>\n",
       "      <td>-5</td>\n",
       "    </tr>\n",
       "    <tr>\n",
       "      <th>921</th>\n",
       "      <td>Судак</td>\n",
       "      <td>Крым</td>\n",
       "      <td>Южный</td>\n",
       "      <td>16492</td>\n",
       "      <td>212</td>\n",
       "      <td>0</td>\n",
       "      <td>212</td>\n",
       "      <td>3</td>\n",
       "    </tr>\n",
       "    <tr>\n",
       "      <th>246</th>\n",
       "      <td>Дербент</td>\n",
       "      <td>Дагестан</td>\n",
       "      <td>Северо-Кавказский</td>\n",
       "      <td>119961</td>\n",
       "      <td>438</td>\n",
       "      <td>1840</td>\n",
       "      <td>438</td>\n",
       "      <td>5</td>\n",
       "    </tr>\n",
       "    <tr>\n",
       "      <th>23</th>\n",
       "      <td>Алушта</td>\n",
       "      <td>Крым</td>\n",
       "      <td>Южный</td>\n",
       "      <td>29078</td>\n",
       "      <td>VI век</td>\n",
       "      <td>1902</td>\n",
       "      <td>550</td>\n",
       "      <td>6</td>\n",
       "    </tr>\n",
       "    <tr>\n",
       "      <th>609</th>\n",
       "      <td>Муром</td>\n",
       "      <td>Владимирская область</td>\n",
       "      <td>Центральный</td>\n",
       "      <td>116078</td>\n",
       "      <td>862</td>\n",
       "      <td>862</td>\n",
       "      <td>862</td>\n",
       "      <td>9</td>\n",
       "    </tr>\n",
       "    <tr>\n",
       "      <th>808</th>\n",
       "      <td>Ростов</td>\n",
       "      <td>Ярославская область</td>\n",
       "      <td>Центральный</td>\n",
       "      <td>31791</td>\n",
       "      <td>862</td>\n",
       "      <td>862</td>\n",
       "      <td>862</td>\n",
       "      <td>9</td>\n",
       "    </tr>\n",
       "    <tr>\n",
       "      <th>875</th>\n",
       "      <td>Смоленск</td>\n",
       "      <td>Смоленская область</td>\n",
       "      <td>Центральный</td>\n",
       "      <td>326863</td>\n",
       "      <td>863</td>\n",
       "      <td>863</td>\n",
       "      <td>863</td>\n",
       "      <td>9</td>\n",
       "    </tr>\n",
       "    <tr>\n",
       "      <th>145</th>\n",
       "      <td>Великий Новгород</td>\n",
       "      <td>Новгородская область</td>\n",
       "      <td>Северо-Западный</td>\n",
       "      <td>218724</td>\n",
       "      <td>VIII—IX века</td>\n",
       "      <td>859</td>\n",
       "      <td>800</td>\n",
       "      <td>9</td>\n",
       "    </tr>\n",
       "  </tbody>\n",
       "</table>\n",
       "</div>"
      ],
      "text/plain": [
       "                  city                region              okrug  population  \\\n",
       "395              Керчь                  Крым              Южный      147033   \n",
       "1017          Феодосия                  Крым              Южный       69038   \n",
       "272          Евпатория                  Крым              Южный      105719   \n",
       "921              Судак                  Крым              Южный       16492   \n",
       "246            Дербент              Дагестан  Северо-Кавказский      119961   \n",
       "23              Алушта                  Крым              Южный       29078   \n",
       "609              Муром  Владимирская область        Центральный      116078   \n",
       "808             Ростов   Ярославская область        Центральный       31791   \n",
       "875           Смоленск    Смоленская область        Центральный      326863   \n",
       "145   Великий Новгород  Новгородская область    Северо-Западный      218724   \n",
       "\n",
       "                   est_date  status_date  est_year  est_century  \n",
       "395   VII — VI век до н. э.            0      -600           -6  \n",
       "1017        VI век до н. э.            0      -550           -6  \n",
       "272        497 год до н. э.         1784      -497           -5  \n",
       "921                     212            0       212            3  \n",
       "246                     438         1840       438            5  \n",
       "23                   VI век         1902       550            6  \n",
       "609                     862          862       862            9  \n",
       "808                     862          862       862            9  \n",
       "875                     863          863       863            9  \n",
       "145            VIII—IX века          859       800            9  "
      ]
     },
     "execution_count": 15,
     "metadata": {},
     "output_type": "execute_result"
    }
   ],
   "source": [
    "# Добавим новый столбец с целочисленным веком, соответствующим дате основания\n",
    "def define_century(x):\n",
    "    if x >= 0:\n",
    "        return x // 100 + 1\n",
    "    else:\n",
    "        return x // 100\n",
    "cities['est_century'] = cities.est_year.apply(define_century)\n",
    "cities.sort_values('est_century').head(10)"
   ]
  },
  {
   "cell_type": "code",
   "execution_count": 16,
   "metadata": {},
   "outputs": [
    {
     "name": "stdout",
     "output_type": "stream",
     "text": [
      "<class 'pandas.core.frame.DataFrame'>\n",
      "RangeIndex: 1117 entries, 0 to 1116\n",
      "Data columns (total 8 columns):\n",
      " #   Column       Non-Null Count  Dtype \n",
      "---  ------       --------------  ----- \n",
      " 0   city         1117 non-null   object\n",
      " 1   region       1117 non-null   object\n",
      " 2   okrug        1117 non-null   object\n",
      " 3   population   1117 non-null   int64 \n",
      " 4   est_date     1117 non-null   object\n",
      " 5   status_date  1117 non-null   int64 \n",
      " 6   est_year     1117 non-null   int64 \n",
      " 7   est_century  1117 non-null   int64 \n",
      "dtypes: int64(4), object(4)\n",
      "memory usage: 69.9+ KB\n"
     ]
    }
   ],
   "source": [
    "# ОК, датафрейм подготовлен\n",
    "cities.info()"
   ]
  },
  {
   "cell_type": "code",
   "execution_count": 17,
   "metadata": {},
   "outputs": [
    {
     "data": {
      "text/html": [
       "<div>\n",
       "<style scoped>\n",
       "    .dataframe tbody tr th:only-of-type {\n",
       "        vertical-align: middle;\n",
       "    }\n",
       "\n",
       "    .dataframe tbody tr th {\n",
       "        vertical-align: top;\n",
       "    }\n",
       "\n",
       "    .dataframe thead th {\n",
       "        text-align: right;\n",
       "    }\n",
       "</style>\n",
       "<table border=\"1\" class=\"dataframe\">\n",
       "  <thead>\n",
       "    <tr style=\"text-align: right;\">\n",
       "      <th></th>\n",
       "      <th>population</th>\n",
       "      <th>status_date</th>\n",
       "      <th>est_year</th>\n",
       "      <th>est_century</th>\n",
       "    </tr>\n",
       "  </thead>\n",
       "  <tbody>\n",
       "    <tr>\n",
       "      <th>count</th>\n",
       "      <td>1.117000e+03</td>\n",
       "      <td>1117.000000</td>\n",
       "      <td>1117.000000</td>\n",
       "      <td>1117.000000</td>\n",
       "    </tr>\n",
       "    <tr>\n",
       "      <th>mean</th>\n",
       "      <td>8.863345e+04</td>\n",
       "      <td>1847.165622</td>\n",
       "      <td>1689.018800</td>\n",
       "      <td>17.368845</td>\n",
       "    </tr>\n",
       "    <tr>\n",
       "      <th>std</th>\n",
       "      <td>4.022194e+05</td>\n",
       "      <td>231.194604</td>\n",
       "      <td>275.978287</td>\n",
       "      <td>2.780828</td>\n",
       "    </tr>\n",
       "    <tr>\n",
       "      <th>min</th>\n",
       "      <td>9.600000e+01</td>\n",
       "      <td>0.000000</td>\n",
       "      <td>-600.000000</td>\n",
       "      <td>-6.000000</td>\n",
       "    </tr>\n",
       "    <tr>\n",
       "      <th>25%</th>\n",
       "      <td>1.381900e+04</td>\n",
       "      <td>1781.000000</td>\n",
       "      <td>1589.000000</td>\n",
       "      <td>16.000000</td>\n",
       "    </tr>\n",
       "    <tr>\n",
       "      <th>50%</th>\n",
       "      <td>2.685000e+04</td>\n",
       "      <td>1938.000000</td>\n",
       "      <td>1750.000000</td>\n",
       "      <td>18.000000</td>\n",
       "    </tr>\n",
       "    <tr>\n",
       "      <th>75%</th>\n",
       "      <td>6.007200e+04</td>\n",
       "      <td>1956.000000</td>\n",
       "      <td>1895.000000</td>\n",
       "      <td>19.000000</td>\n",
       "    </tr>\n",
       "    <tr>\n",
       "      <th>max</th>\n",
       "      <td>1.151433e+07</td>\n",
       "      <td>2019.000000</td>\n",
       "      <td>2012.000000</td>\n",
       "      <td>21.000000</td>\n",
       "    </tr>\n",
       "  </tbody>\n",
       "</table>\n",
       "</div>"
      ],
      "text/plain": [
       "         population  status_date     est_year  est_century\n",
       "count  1.117000e+03  1117.000000  1117.000000  1117.000000\n",
       "mean   8.863345e+04  1847.165622  1689.018800    17.368845\n",
       "std    4.022194e+05   231.194604   275.978287     2.780828\n",
       "min    9.600000e+01     0.000000  -600.000000    -6.000000\n",
       "25%    1.381900e+04  1781.000000  1589.000000    16.000000\n",
       "50%    2.685000e+04  1938.000000  1750.000000    18.000000\n",
       "75%    6.007200e+04  1956.000000  1895.000000    19.000000\n",
       "max    1.151433e+07  2019.000000  2012.000000    21.000000"
      ]
     },
     "execution_count": 17,
     "metadata": {},
     "output_type": "execute_result"
    }
   ],
   "source": [
    "cities.describe()"
   ]
  },
  {
   "cell_type": "code",
   "execution_count": 274,
   "metadata": {},
   "outputs": [
    {
     "data": {
      "image/png": "[encoded data removed]",
      "text/plain": [
       "<Figure size 432x288 with 1 Axes>"
      ]
     },
     "metadata": {},
     "output_type": "display_data"
    },
    {
     "name": "stdout",
     "output_type": "stream",
     "text": [
      "Большая часть населения России живёт в городах\n",
      "Всего в городах России проживает 99003569 человек\n"
     ]
    }
   ],
   "source": [
    "total_ru_population = 146748590\n",
    "city_population = cities.population.sum()\n",
    "plt.pie([total_ru_population - city_population, city_population], startangle=90, labels=['сельское', 'городское'],\\\n",
    "       autopct='%1.1f%%')\n",
    "plt.title('Распределение городского и сельского населения России')\n",
    "plt.show()\n",
    "print(\"Большая часть населения России живёт в городах\")\n",
    "print(f\"Всего в городах России проживает {city_population} человек\")"
   ]
  },
  {
   "cell_type": "code",
   "execution_count": 275,
   "metadata": {},
   "outputs": [
    {
     "data": {
      "image/png": "[encoded data removed]",
      "text/plain": [
       "<Figure size 432x288 with 1 Axes>"
      ]
     },
     "metadata": {
      "needs_background": "light"
     },
     "output_type": "display_data"
    },
    {
     "name": "stdout",
     "output_type": "stream",
     "text": [
      "Большая часть городов - небольшого размера, чаще всего в диапазоне от 10 тыс. до 100 тыс. человек\n"
     ]
    }
   ],
   "source": [
    "# Разобъём города на 6 корзин по кол-ву населения\n",
    "bins = [0, 10000, 30000, 100000, 300000, 1000000, np.inf]\n",
    "labels = ['<10K', '10K...30K', '30K...100K', '100K...300K', '300K...1M', '1M+']\n",
    "plt.hist(pd.cut(cities.population.sort_values(), bins=bins, labels=labels), bins=6)\n",
    "plt.title('Распределение городов по количеству населения')\n",
    "plt.xticks((0.5, 1.3, 2.1, 2.9, 3.7, 4.6), rotation=90)\n",
    "plt.show()\n",
    "print(\"Большая часть городов - небольшого размера, чаще всего в диапазоне от 10 тыс. до 100 тыс. человек\")"
   ]
  },
  {
   "cell_type": "code",
   "execution_count": 286,
   "metadata": {},
   "outputs": [
    {
     "data": {
      "image/png": "[encoded data removed]",
      "text/plain": [
       "<Figure size 432x288 with 1 Axes>"
      ]
     },
     "metadata": {
      "needs_background": "light"
     },
     "output_type": "display_data"
    },
    {
     "name": "stdout",
     "output_type": "stream",
     "text": [
      "Развитие городов и расширение территории России ускорилось в 16 веке и бурно росло до 19 века.\n",
      "В 20 веке был финальный аккорд, связанный с ускоренной урбанизацией, которую на данный момент можно считать завершенной.\n"
     ]
    }
   ],
   "source": [
    "plt.hist(cities.est_century, bins=28)\n",
    "plt.title('Распределение городов по дате основания или первого упоминания')\n",
    "plt.xlabel('Век')\n",
    "plt.ylabel('Количество городов')\n",
    "plt.grid()\n",
    "plt.show()\n",
    "print(\"Развитие городов и расширение территории России ускорилось в 16 веке и бурно росло до 19 века.\\n\\\n",
    "В 20 веке был финальный аккорд, связанный с ускоренной урбанизацией, которую на данный момент можно считать завершенной.\")"
   ]
  },
  {
   "cell_type": "code",
   "execution_count": 287,
   "metadata": {},
   "outputs": [
    {
     "data": {
      "image/png": "[encoded data removed]",
      "text/plain": [
       "<Figure size 432x288 with 1 Axes>"
      ]
     },
     "metadata": {
      "needs_background": "light"
     },
     "output_type": "display_data"
    },
    {
     "name": "stdout",
     "output_type": "stream",
     "text": [
      "Большая часть городов находится в центре Европейской части страны, включая Поволжье и Северо-Западный округ\n"
     ]
    }
   ],
   "source": [
    "cities.groupby('okrug').count().city.plot(kind='barh', title='Распределение городов по федеральным округам')\n",
    "plt.ylabel('Количество городов')\n",
    "plt.ylabel('Федеральный округ')\n",
    "plt.show()\n",
    "print(\"Большая часть городов находится в центре Европейской части страны, включая Поволжье и Северо-Западный округ\")"
   ]
  },
  {
   "cell_type": "code",
   "execution_count": 314,
   "metadata": {},
   "outputs": [
    {
     "data": {
      "image/png": "[encoded data removed]",
      "text/plain": [
       "<Figure size 720x432 with 1 Axes>"
      ]
     },
     "metadata": {
      "needs_background": "light"
     },
     "output_type": "display_data"
    },
    {
     "name": "stdout",
     "output_type": "stream",
     "text": [
      "Самые \"древние\" округа - Центральный и Северо-Западный. \n",
      "При этом в Крыму есть несколько городов, основанных ещё древними греками + на Кавказе есть Дербент.\n",
      "6 самых древних городов: \n",
      "           city               est_date\n",
      "23       Алушта                 VI век\n",
      "246     Дербент                    438\n",
      "272   Евпатория       497 год до н. э.\n",
      "395       Керчь  VII — VI век до н. э.\n",
      "921       Судак                    212\n",
      "1017   Феодосия        VI век до н. э.\n",
      "\n",
      "Самые \"молодые\" округа - Сибирский и Дальневосточный.\n",
      "Наконец, в Уральском округе медиана заметно смещена влево, свидетельствуя о бурном развитии поселений в 1-й половине 18 века.\n"
     ]
    }
   ],
   "source": [
    "plt.figure(figsize=(10, 6))\n",
    "sns.boxplot(x='est_year', y='okrug', data=cities)\n",
    "plt.title('Распределение дат основания городов по округам')\n",
    "plt.xlabel('Год основания или первого упоминания')\n",
    "plt.ylabel('Федеральный округ')\n",
    "plt.grid(axis='x')\n",
    "plt.show()\n",
    "print('Самые \"древние\" округа - Центральный и Северо-Западный. \\n\\\n",
    "При этом в Крыму есть несколько городов, основанных ещё древними греками + на Кавказе есть Дербент.')\n",
    "print(f\"6 самых древних городов: \\n{cities[['city', 'est_date']][cities.est_year < 800]}\\n\")\n",
    "print('Самые \"молодые\" округа - Сибирский и Дальневосточный.')\n",
    "print(\"Наконец, в Уральском округе медиана заметно смещена влево, свидетельствуя о бурном развитии поселений в 1-й половине 18 века.\")"
   ]
  },
  {
   "cell_type": "code",
   "execution_count": 310,
   "metadata": {},
   "outputs": [
    {
     "data": {
      "image/png": "[encoded data removed]",
      "text/plain": [
       "<Figure size 1080x720 with 1 Axes>"
      ]
     },
     "metadata": {
      "needs_background": "light"
     },
     "output_type": "display_data"
    },
    {
     "name": "stdout",
     "output_type": "stream",
     "text": [
      "Распределение городов по населению и году основания не позволяет с уверенностью утверждать о связи этих параметров.\n",
      "Очевидно, численность населения городов гораздо больше зависит от других факторов.\n"
     ]
    }
   ],
   "source": [
    "plt.figure(figsize=(15, 10))\n",
    "cities_normal = cities[cities.population < 1000000]\n",
    "plt.scatter(cities_normal.est_year, cities_normal.population)\n",
    "plt.title('Население и год основания (без мегаполисов)')\n",
    "plt.show()\n",
    "print(\"Распределение городов по населению и году основания не позволяет с уверенностью утверждать о связи этих параметров.\\\n",
    "\\nОчевидно, численность населения городов гораздо больше зависит от других факторов.\")"
   ]
  }
 ],
 "metadata": {
  "kernelspec": {
   "display_name": "Python 3",
   "language": "python",
   "name": "python3"
  },
  "language_info": {
   "codemirror_mode": {
    "name": "ipython",
    "version": 3
   },
   "file_extension": ".py",
   "mimetype": "text/x-python",
   "name": "python",
   "nbconvert_exporter": "python",
   "pygments_lexer": "ipython3",
   "version": "3.7.6"
  }
 },
 "nbformat": 4,
 "nbformat_minor": 4
}
