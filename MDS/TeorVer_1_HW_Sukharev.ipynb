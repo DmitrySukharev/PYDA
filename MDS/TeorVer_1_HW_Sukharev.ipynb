{
 "cells": [
  {
   "cell_type": "code",
   "execution_count": 30,
   "metadata": {},
   "outputs": [],
   "source": [
    "import numpy as np\n",
    "import random\n",
    "import matplotlib.pyplot as plt\n",
    "import seaborn\n",
    "from scipy.stats import *"
   ]
  },
  {
   "cell_type": "markdown",
   "metadata": {},
   "source": [
    "**Уровень 0**  \n",
    "**Задание 1**  \n",
    "Монетку подбрасывают 15 раз, найдите вероятность выпадения простого числа орлов (решение на бумажке и на python)."
   ]
  },
  {
   "cell_type": "code",
   "execution_count": 172,
   "metadata": {},
   "outputs": [],
   "source": [
    "prime_numbers = [1, 3, 5, 7, 11, 13]    # простые числа до 15\n",
    "n = 15"
   ]
  },
  {
   "cell_type": "code",
   "execution_count": 175,
   "metadata": {},
   "outputs": [
    {
     "name": "stdout",
     "output_type": "stream",
     "text": [
      "Биномиальные коэффициенты: [15.0, 455.0, 3003.0, 6435.0, 1365.0, 105.0]\n",
      "Вероятность: 0.34722900390625\n"
     ]
    }
   ],
   "source": [
    "# на \"бумажке\"\n",
    "import scipy.special\n",
    "\n",
    "bc = []\n",
    "for i in prime_numbers:\n",
    "    bc.append(scipy.special.binom(n, i))    # \"выпишем\" биномиальные коэффициенты для нужных нам простых чисел\n",
    "print(f\"Биномиальные коэффициенты: {bc}\")\n",
    "p = sum(bc) / 2**n    # сложим и поделим на сумму всех коэф. ряда, которая равна 2**n\n",
    "print(f\"Вероятность: {p}\")"
   ]
  },
  {
   "cell_type": "code",
   "execution_count": 183,
   "metadata": {},
   "outputs": [],
   "source": [
    "# эмулируем эксперимент 100 млн. раз:\n",
    "s = 100000000\n",
    "a = np.random.binomial(n=15, p=0.5, size=s)"
   ]
  },
  {
   "cell_type": "code",
   "execution_count": 186,
   "metadata": {},
   "outputs": [
    {
     "name": "stdout",
     "output_type": "stream",
     "text": [
      "Вероятность: 0.34727866\n"
     ]
    }
   ],
   "source": [
    "prime_num_tests = []\n",
    "for i in prime_numbers:\n",
    "    prime_num_tests.append(np.count_nonzero(a == i))\n",
    "p2 = sum(prime_num_tests) / s\n",
    "print(f\"Вероятность: {p2}\")"
   ]
  },
  {
   "cell_type": "markdown",
   "metadata": {},
   "source": [
    "**Задание 2**  \n",
    "Создайте свою дискретную случайную величину с не менее, чем 10 значениями. Просемплируйте 1000 случайных значений, постройте гистограмму плотности распределения по выборке, посчитайте среднее, дисперсию и медиану."
   ]
  },
  {
   "cell_type": "code",
   "execution_count": 28,
   "metadata": {},
   "outputs": [
    {
     "name": "stdout",
     "output_type": "stream",
     "text": [
      "Среднее: 4.515\n",
      "Дисперсия: 8.051775\n",
      "Медиана: 4.0\n"
     ]
    },
    {
     "data": {
      "image/png": "[encoded data removed]",
      "text/plain": [
       "<Figure size 432x288 with 1 Axes>"
      ]
     },
     "metadata": {
      "needs_background": "light"
     },
     "output_type": "display_data"
    }
   ],
   "source": [
    "my_data = np.random.choice(10, 1000)\n",
    "print(f\"Среднее: {np.mean(my_data)}\")\n",
    "print(f\"Дисперсия: {np.var(my_data)}\")\n",
    "print(f\"Медиана: {np.median(my_data)}\")\n",
    "\n",
    "plt.hist(my_data)\n",
    "plt.show()"
   ]
  }
 ],
 "metadata": {
  "kernelspec": {
   "display_name": "Python 3",
   "language": "python",
   "name": "python3"
  },
  "language_info": {
   "codemirror_mode": {
    "name": "ipython",
    "version": 3
   },
   "file_extension": ".py",
   "mimetype": "text/x-python",
   "name": "python",
   "nbconvert_exporter": "python",
   "pygments_lexer": "ipython3",
   "version": "3.7.6"
  }
 },
 "nbformat": 4,
 "nbformat_minor": 4
}
