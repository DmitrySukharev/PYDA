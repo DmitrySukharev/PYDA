{
 "cells": [
  {
   "cell_type": "markdown",
   "metadata": {},
   "source": [
    "**Уровень 0**  \n",
    "Посчитайте частные производные своими руками и на numpy"
   ]
  },
  {
   "cell_type": "markdown",
   "metadata": {},
   "source": [
    "Посчитайте частные производные функций (как обычно, необходимо решение на бумажке или в LaTeX и на scipy):  \n",
    "\n",
    "1) $f(x,y)=2x^2y^3 + 1/x + y^2x + 7$, а для этой функции также градиент в точке $(1,2)$  \n",
    "\n",
    "2) $f(x,y)=x^2y - sin(xy) + cos(x^2) + 6y$  "
   ]
  },
  {
   "cell_type": "code",
   "execution_count": 2,
   "metadata": {},
   "outputs": [],
   "source": [
    "import numpy as np\n",
    "from scipy.optimize import approx_fprime"
   ]
  },
  {
   "cell_type": "code",
   "execution_count": null,
   "metadata": {},
   "outputs": [],
   "source": [
    "# 1)\n",
    "# Производная ф-ии №1 по х: 2 * 2 * x * y**3 + x**(-2) * (-1) = 4 * x * y**3 - 1 / x**2\n",
    "# Производная ф-ии №1 по y: 2 * x**2 * 3 * y**2 + 2 * y * x = 6 * x**2 * y**2 + 2 * x * y\n",
    "\n",
    "# 2)\n",
    "# Производная ф-ии №2 по х: 2 * x * y - cos(x * y) * y - sin(x**2) * 2 * x\n",
    "# Производная ф-ии №2 по y: x**2 - cos(x * y) * x + 6"
   ]
  },
  {
   "cell_type": "code",
   "execution_count": 24,
   "metadata": {},
   "outputs": [
    {
     "name": "stdout",
     "output_type": "stream",
     "text": [
      "Производная ф-ии №1 по х: 4*x*y**3 + y**2 - 1/x**2\n",
      "Производная ф-ии №1 по y: 6*x**2*y**2 + 2*x*y\n",
      "\n",
      "Производная ф-ии №2 по х: 2*x*y - 2*x*sin(x**2) - y*cos(x*y)\n",
      "Производная ф-ии №2 по y: x**2 - x*cos(x*y) + 6\n"
     ]
    }
   ],
   "source": [
    "# Проверим правильность производных с помощью sympy\n",
    "from sympy import *\n",
    "\n",
    "x, y = symbols ('x y')\n",
    "print(f\"Производная ф-ии №1 по х: {diff(2 * x**2 * y**3 + 1 / x + y**2 * x + 7, x)}\")\n",
    "print(f\"Производная ф-ии №1 по y: {diff(2 * x**2 * y**3 + 1 / x + y**2 * x + 7, y)}\\n\")\n",
    "\n",
    "print(f\"Производная ф-ии №2 по х: {diff(x**2 * y - sin(x * y) + cos(x**2) + 6 * y, x)}\")\n",
    "print(f\"Производная ф-ии №2 по y: {diff(x**2 * y - sin(x * y) + cos(x**2) + 6 * y, y)}\")"
   ]
  },
  {
   "cell_type": "code",
   "execution_count": 4,
   "metadata": {},
   "outputs": [],
   "source": [
    "def func1(x):\n",
    "    \"Coordinate vector 'x' should be an array of size two.\"\n",
    "    return 2 * x[0]**2 * x[1]**3 + 1 / x[0] + x[0] * x[1]**2 + 7\n",
    "\n",
    "def func2(x):\n",
    "    \"Coordinate vector 'x' should be an array of size two.\"\n",
    "    return x[0]**2 * x[1] - np.sin(x[0] * x[1]) + np.cos(x[0]**2) + 6 * x[1]"
   ]
  },
  {
   "cell_type": "code",
   "execution_count": 6,
   "metadata": {},
   "outputs": [
    {
     "data": {
      "text/plain": [
       "array([35.00000024, 28.00000024])"
      ]
     },
     "execution_count": 6,
     "metadata": {},
     "output_type": "execute_result"
    }
   ],
   "source": [
    "x = np.array([1, 2])\n",
    "eps = np.sqrt(np.finfo(float).eps)\n",
    "approx_fprime(x, func1, [eps, eps])"
   ]
  }
 ],
 "metadata": {
  "kernelspec": {
   "display_name": "Python 3",
   "language": "python",
   "name": "python3"
  },
  "language_info": {
   "codemirror_mode": {
    "name": "ipython",
    "version": 3
   },
   "file_extension": ".py",
   "mimetype": "text/x-python",
   "name": "python",
   "nbconvert_exporter": "python",
   "pygments_lexer": "ipython3",
   "version": "3.7.6"
  }
 },
 "nbformat": 4,
 "nbformat_minor": 4
}
