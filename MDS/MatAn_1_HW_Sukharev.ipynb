{
 "cells": [
  {
   "cell_type": "markdown",
   "metadata": {},
   "source": [
    "**Уровень 0**  \n",
    "посчитайте значение 1-ой и 2-ой производной фунции  \n",
    "f(x) = x^5 + 4sin(2x) + cos(3x+3) в точке x = 1"
   ]
  },
  {
   "cell_type": "code",
   "execution_count": 2,
   "metadata": {},
   "outputs": [],
   "source": [
    "import numpy as np\n",
    "from scipy.misc import derivative"
   ]
  },
  {
   "cell_type": "code",
   "execution_count": 5,
   "metadata": {
    "scrolled": true
   },
   "outputs": [
    {
     "name": "stdout",
     "output_type": "stream",
     "text": [
      "Первая производная: 2.509071801881646\n",
      "Вторая производная: -3.19033688356285\n"
     ]
    }
   ],
   "source": [
    "def f(x):\n",
    "    return x**5 + 4 * np.sin(2*x) + np.cos(3*x + 3)\n",
    "print(f\"Первая производная: {derivative(f, 1.0, dx=1e-6)}\")\n",
    "print(f\"Вторая производная: {derivative(f, 1.0, dx=1e-6, n=2)}\")"
   ]
  },
  {
   "cell_type": "code",
   "execution_count": 12,
   "metadata": {},
   "outputs": [
    {
     "name": "stdout",
     "output_type": "stream",
     "text": [
      "1-я производная, ручной метод: 2.5090718022196383\n",
      "2-я производная, ручной метод: -3.1902914090642014\n"
     ]
    }
   ],
   "source": [
    "# Определим 1-ю  и 2-ю производные от f(x):\n",
    "def f_prime(x):\n",
    "    return 5 * x**4 + 8 * np.cos(2*x) - 3 * np.sin(3*x + 3)\n",
    "def f_second(x):\n",
    "    return 20 * x**3 - 16 * np.sin(2*x) - 9 * np.cos(3*x + 3) \n",
    "\n",
    "print(f\"1-я производная, ручной метод: {f_prime(1)}\")    # сверим значение 1-й производной с ранее полученным результатом в x=1\n",
    "print(f\"2-я производная, ручной метод: {f_second(1)}\")   # сверим значение 2-й производной с ранее полученным результатом в x=1"
   ]
  },
  {
   "cell_type": "code",
   "execution_count": 11,
   "metadata": {},
   "outputs": [
    {
     "name": "stdout",
     "output_type": "stream",
     "text": [
      "Первая производная - 5*x**4 - 3*sin(3*x + 3) + 8*cos(2*x)\n",
      "Вторая производная - 20*x**3 - 16*sin(2*x) - 9*cos(3*(x + 1))\n"
     ]
    }
   ],
   "source": [
    "# Проверим правильность выше определённых производных символьным методом c помощью sympy\n",
    "from sympy import *\n",
    "\n",
    "x = symbols ('x')\n",
    "print(f\"Первая производная - {diff(x**5 + 4 * sin(2*x) + cos(3*x + 3), x)}\")\n",
    "print(f\"Вторая производная - {diff(x**5 + 4 * sin(2*x) + cos(3*x + 3), x, 2)}\")"
   ]
  }
 ],
 "metadata": {
  "kernelspec": {
   "display_name": "Python 3",
   "language": "python",
   "name": "python3"
  },
  "language_info": {
   "codemirror_mode": {
    "name": "ipython",
    "version": 3
   },
   "file_extension": ".py",
   "mimetype": "text/x-python",
   "name": "python",
   "nbconvert_exporter": "python",
   "pygments_lexer": "ipython3",
   "version": "3.7.6"
  }
 },
 "nbformat": 4,
 "nbformat_minor": 4
}
