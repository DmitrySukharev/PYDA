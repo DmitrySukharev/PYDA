{
 "cells": [
  {
   "cell_type": "markdown",
   "metadata": {},
   "source": [
    "**Уровень 0**  \n",
    "посчитайте значение 1-ой и 2-ой производной фунции  \n",
    "f(x) = x^5 + 4sin(2x) + cos(3x+3) в точке x = 1"
   ]
  },
  {
   "cell_type": "code",
   "execution_count": 20,
   "metadata": {},
   "outputs": [],
   "source": [
    "import numpy as np\n",
    "from scipy.misc import derivative"
   ]
  },
  {
   "cell_type": "code",
   "execution_count": 32,
   "metadata": {
    "scrolled": true
   },
   "outputs": [
    {
     "name": "stdout",
     "output_type": "stream",
     "text": [
      "Первая производная: 2.509071801881646\n"
     ]
    }
   ],
   "source": [
    "def f(x):\n",
    "    return x**5 + 4 * np.sin(2*x) + np.cos(3*x + 3)\n",
    "print(f\"Первая производная: {derivative(f, 1.0, dx=1e-6)}\")"
   ]
  },
  {
   "cell_type": "code",
   "execution_count": 33,
   "metadata": {},
   "outputs": [
    {
     "name": "stdout",
     "output_type": "stream",
     "text": [
      "1-я производная, ручной метод: 2.5090718022196383\n",
      "2-я производная: -3.190291407717538\n"
     ]
    }
   ],
   "source": [
    "# Определим производную от f(x):\n",
    "def f_prime(x):\n",
    "    return 5 * x**4 + 4 * np.cos(2*x) * 2 - np.sin(3*x + 3) * 3\n",
    "\n",
    "print(f\"1-я производная, ручной метод: {f_prime(1)}\")    # сверим значение 1-й производной с ранее полученным результатом в x=1\n",
    "print(f\"2-я производная: {derivative(f_prime, 1.0, dx=1e-6)}\")"
   ]
  },
  {
   "cell_type": "code",
   "execution_count": 22,
   "metadata": {},
   "outputs": [
    {
     "data": {
      "text/latex": [
       "$\\displaystyle 5 x^{4} - 3 \\sin{\\left(3 x + 3 \\right)} + 8 \\cos{\\left(2 x \\right)}$"
      ],
      "text/plain": [
       "5*x**4 - 3*sin(3*x + 3) + 8*cos(2*x)"
      ]
     },
     "execution_count": 22,
     "metadata": {},
     "output_type": "execute_result"
    }
   ],
   "source": [
    "# Проверим правильность выше определённой производной ф-ии символьным методом c помощью sympy\n",
    "from sympy import *\n",
    "\n",
    "x = symbols ('x')\n",
    "diff(x**5 + 4 * sin(2*x) + cos(3*x + 3))"
   ]
  }
 ],
 "metadata": {
  "kernelspec": {
   "display_name": "Python 3",
   "language": "python",
   "name": "python3"
  },
  "language_info": {
   "codemirror_mode": {
    "name": "ipython",
    "version": 3
   },
   "file_extension": ".py",
   "mimetype": "text/x-python",
   "name": "python",
   "nbconvert_exporter": "python",
   "pygments_lexer": "ipython3",
   "version": "3.7.6"
  }
 },
 "nbformat": 4,
 "nbformat_minor": 4
}
