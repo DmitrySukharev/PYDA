{
 "cells": [
  {
   "cell_type": "markdown",
   "metadata": {},
   "source": [
    "## Задание 1\n",
    "\n",
    "Печатные газеты использовали свой формат дат для каждого выпуска. Для каждой газеты из списка напишите формат указанной даты для перевода в объект datetime:  \n",
    "The Moscow Times - Wednesday, October 2, 2002  \n",
    "The Guardian - Friday, 11.10.13  \n",
    "Daily News - Thursday, 18 August 1977  "
   ]
  },
  {
   "cell_type": "code",
   "execution_count": 16,
   "metadata": {},
   "outputs": [
    {
     "name": "stdout",
     "output_type": "stream",
     "text": [
      "2002-10-02 00:00:00\n",
      "2013-10-11 00:00:00\n",
      "1977-08-18 00:00:00\n"
     ]
    }
   ],
   "source": [
    "from datetime import datetime\n",
    "\n",
    "try:\n",
    "    date1 = datetime.strptime('Wednesday, October 2, 2002', '%A, %B %d, %Y')\n",
    "    date2 = datetime.strptime('Friday, 11.10.13', '%A, %d.%m.%y')\n",
    "    date3 = datetime.strptime('Thursday, 18 August 1977', '%A, %d %B %Y')\n",
    "    \n",
    "    print(date1, date2, date3, sep='\\n')\n",
    "except:\n",
    "    print('не получилось преобразовать в даты')"
   ]
  },
  {
   "cell_type": "markdown",
   "metadata": {},
   "source": [
    "## Задание 2\n",
    "\n",
    "Дан поток дат в формате YYYY-MM-DD, в которых встречаются некорректные значения:\n",
    "stream = ['2018-04-02', '2018-02-29', '2018-19-02']\n",
    "\n",
    "Напишите функцию, которая проверяет эти даты на корректность. Т. е. для каждой даты возвращает True (дата корректна) или False (некорректная дата)."
   ]
  },
  {
   "cell_type": "code",
   "execution_count": 21,
   "metadata": {},
   "outputs": [
    {
     "data": {
      "text/plain": [
       "{'2018-04-02': True, '2018-02-29': False, '2018-19-02': False}"
      ]
     },
     "execution_count": 21,
     "metadata": {},
     "output_type": "execute_result"
    }
   ],
   "source": [
    "stream = ['2018-04-02', '2018-02-29', '2018-19-02']\n",
    "\n",
    "def check_valid_date(in_list):\n",
    "    from datetime import datetime    # правильно ли импортировать внутри ф-ии?\n",
    "    out_dict = {}\n",
    "    for item in in_list:\n",
    "        try:\n",
    "            datetime.strptime(item, '%Y-%m-%d')\n",
    "            out_dict[item] = True\n",
    "        except:\n",
    "            out_dict[item] = False\n",
    "    return out_dict\n",
    "\n",
    "check_valid_date(stream)"
   ]
  },
  {
   "cell_type": "markdown",
   "metadata": {},
   "source": [
    "## Задание 3\n",
    "Напишите функцию date_range, которая возвращает список дат за период от start_date до end_date. Даты должны вводиться в формате YYYY-MM-DD. В случае неверного формата или при start_date > end_date должен возвращаться пустой список."
   ]
  },
  {
   "cell_type": "code",
   "execution_count": 51,
   "metadata": {},
   "outputs": [
    {
     "data": {
      "text/plain": [
       "['2020-07-09',\n",
       " '2020-07-10',\n",
       " '2020-07-11',\n",
       " '2020-07-12',\n",
       " '2020-07-13',\n",
       " '2020-07-14',\n",
       " '2020-07-15',\n",
       " '2020-07-16',\n",
       " '2020-07-17',\n",
       " '2020-07-18',\n",
       " '2020-07-19',\n",
       " '2020-07-20',\n",
       " '2020-07-21',\n",
       " '2020-07-22',\n",
       " '2020-07-23']"
      ]
     },
     "execution_count": 51,
     "metadata": {},
     "output_type": "execute_result"
    }
   ],
   "source": [
    "def date_range(start_date_input, end_date_input):\n",
    "    from datetime import datetime\n",
    "    from datetime import timedelta\n",
    "    out_list = []\n",
    "    \n",
    "    try:\n",
    "        start_date = datetime.strptime(start_date_input, '%Y-%m-%d')\n",
    "        end_date = datetime.strptime(end_date_input, '%Y-%m-%d')\n",
    "    except:\n",
    "        print('Ошибка! Не удалось входные аргументы преобразовать в даты (формат YYYY-MM-DD)')\n",
    "        return out_list\n",
    "    if start_date > end_date:\n",
    "        print('Ошибка! Дата начала периода должна быть до даты окончания периода')\n",
    "        return out_list\n",
    "    \n",
    "    date_counter = start_date\n",
    "    while date_counter <= end_date:\n",
    "        out_list.append(date_counter.strftime('%Y-%m-%d'))\n",
    "        date_counter = date_counter + timedelta(days=1)\n",
    "    return out_list\n",
    "\n",
    "date_range('2020-7-9', '2020-7-23')"
   ]
  },
  {
   "cell_type": "markdown",
   "metadata": {},
   "source": [
    "## Задание 4 (бонусное)\n",
    "Ваш коллега прислал код функции:\n",
    "\n",
    "    DEFAULT_USER_COUNT = 3\n",
    "    \n",
    "    def delete_and_return_last_user(region, default_list=['A100', 'A101', 'A102']):\n",
    "        \"\"\"\n",
    "        Удаляет из списка default_list последнего пользователя \n",
    "        и возвращает ID нового последнего пользователя.\n",
    "        \"\"\"\n",
    "        element_to_delete = default_list[-1]\n",
    "        default_list.remove(element_to_delete)\n",
    "        \n",
    "        return default_list[DEFAULT_USER_COUNT-2]\n",
    "\n",
    "При однократном вызове этой функции все работает корректно:  \n",
    "delete_and_return_last_user(1)\n",
    "'A101'\n",
    "\n",
    "Однако, при повторном вызове получается ошибка IndexError:  list index out of range.\n",
    "\n",
    "Задание:\n",
    "1. Что значит ошибка list index out of range?\n",
    "2. Почему при первом запуске функция работает корректно, а при втором - нет?"
   ]
  },
  {
   "cell_type": "markdown",
   "metadata": {},
   "source": [
    "### Ответ к заданию 4\n",
    "\n",
    "1. ошибка list index out of range значит неудачную попытку обращения к элементу списка по индексу, который выходит за пределы диапазона возможных индексов, например, больше, чем длина списка.\n",
    "2. Похоже, что в ф-ии используется глобальная (внешняя) переменная DEFAULT_USER_COUNT, которая здесь всегда = 3, так что ф-ия пытается каждый раз вернуть элемент с индексом 3-2 = 1. При первом запуске такой элемент есть, при втором уже нет, так как остаётся лишь один элемент в дефолтном списке с индексом 0"
   ]
  }
 ],
 "metadata": {
  "kernelspec": {
   "display_name": "Python 3",
   "language": "python",
   "name": "python3"
  },
  "language_info": {
   "codemirror_mode": {
    "name": "ipython",
    "version": 3
   },
   "file_extension": ".py",
   "mimetype": "text/x-python",
   "name": "python",
   "nbconvert_exporter": "python",
   "pygments_lexer": "ipython3",
   "version": "3.7.6"
  }
 },
 "nbformat": 4,
 "nbformat_minor": 4
}
