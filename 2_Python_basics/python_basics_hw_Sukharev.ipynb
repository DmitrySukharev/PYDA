{
 "cells": [
  {
   "cell_type": "markdown",
   "metadata": {},
   "source": [
    "**Задание 1.** Даны 2 строки: long_phrase и short_phrase. Напишите код, который проверяет действительно ли длинная фраза long_phrase длиннее короткой short_phrase. И выводит True или False в зависимости от результата сравнения."
   ]
  },
  {
   "cell_type": "code",
   "execution_count": 6,
   "metadata": {},
   "outputs": [],
   "source": [
    "long_phrase = 'Насколько проще было бы писать программы, если бы не заказчики'\n",
    "short_phrase = '640Кб должно хватить для любых задач. Билл Гейтс (по легенде)'"
   ]
  },
  {
   "cell_type": "code",
   "execution_count": 7,
   "metadata": {},
   "outputs": [
    {
     "name": "stdout",
     "output_type": "stream",
     "text": [
      "True\n"
     ]
    }
   ],
   "source": [
    "print(len(long_phrase) > len(short_phrase))"
   ]
  },
  {
   "cell_type": "markdown",
   "metadata": {},
   "source": [
    "**Задание 2.** Дано значение объема файла в байтах (в мегабайте 2^20 байт). Напишите перевод этого значения в мегабайты в формате: \"Объем файла равен 213.68Mb\"."
   ]
  },
  {
   "cell_type": "code",
   "execution_count": 31,
   "metadata": {},
   "outputs": [
    {
     "name": "stdout",
     "output_type": "stream",
     "text": [
      "Объем файла равен 212.64Mb\n"
     ]
    }
   ],
   "source": [
    "file_size_bites = 222971520\n",
    "\n",
    "file_size_MB = file_size_bites / 2**20\n",
    "file_size_MB_rounded = (file_size_MB * 100) // 1 / 100    # rounded number w/o function\n",
    "\n",
    "print('Объем файла равен ' + str(file_size_MB_rounded) + 'Mb')"
   ]
  },
  {
   "cell_type": "markdown",
   "metadata": {},
   "source": [
    "**Задание 3.** Разработать приложение для определения знака зодиака по дате рождения. Пример:\n",
    "\n",
    "Введите месяц: март\n",
    "Введите число: 6\n",
    "Вывод: Рыбы"
   ]
  },
  {
   "cell_type": "code",
   "execution_count": 80,
   "metadata": {},
   "outputs": [
    {
     "name": "stdout",
     "output_type": "stream",
     "text": [
      "Введите месяц: Апрель\n",
      "Введите число: 30\n",
      "Телец\n"
     ]
    }
   ],
   "source": [
    "month = input('Введите месяц: ').lower()\n",
    "day = int(input('Введите число: '))\n",
    "\n",
    "zod = ''\n",
    "less_22 = day < 22\n",
    "\n",
    "if ((month == 'январь' or month =='март' or month =='май' or month =='июль' or month =='август' or month =='октябрь' or month =='декабрь') and day > 31):\n",
    "    print('Введено неверное число!')\n",
    "elif ((month =='февраль' or month =='апрель' or month =='июнь' or month =='сентябрь' or month =='ноябрь') and day > 30 or month == 'февраль' and day > 29):\n",
    "    print('Введено неверное число!')\n",
    "elif (day < 1):\n",
    "    print('Число не может быть меньше 1!')\n",
    "\n",
    "elif (month == 'январь'):\n",
    "    if (less_22):\n",
    "        zod = 'Козерог'\n",
    "    else:\n",
    "        zod = 'Водолей'\n",
    "elif (month == 'февраль'):\n",
    "    if (less_22):\n",
    "        zod = 'Водолей'\n",
    "    else:\n",
    "        zod = 'Рыбы'\n",
    "elif (month == 'март'):\n",
    "    if (less_22):\n",
    "        zod = 'Рыбы'\n",
    "    else:\n",
    "        zod = 'Овен'\n",
    "elif (month == 'апрель'):\n",
    "    if (less_22):\n",
    "        zod = 'Овен'\n",
    "    else:\n",
    "        zod = 'Телец'\n",
    "elif (month == 'май'):\n",
    "    if (less_22):\n",
    "        zod = 'Телец'\n",
    "    else:\n",
    "        zod = 'Близнецы'\n",
    "elif (month == 'июнь'):\n",
    "    if (less_22):\n",
    "        zod = 'Близнецы'\n",
    "    else:\n",
    "        zod = 'Рак'\n",
    "elif (month == 'июль'):\n",
    "    if (less_22):\n",
    "        zod = 'Рак'\n",
    "    else:\n",
    "        zod = 'Лев'\n",
    "elif (month == 'август'):\n",
    "    if (less_22):\n",
    "        zod = 'Лев'\n",
    "    else:\n",
    "        zod = 'Дева'\n",
    "elif (month == 'сентябрь'):\n",
    "    if (less_22):\n",
    "        zod = 'Дева'\n",
    "    else:\n",
    "        zod = 'Весы'\n",
    "elif (month == 'октябрь'):\n",
    "    if (less_22):\n",
    "        zod = 'Весы'\n",
    "    else:\n",
    "        zod = 'Скорпион'\n",
    "elif (month == 'ноябрь'):\n",
    "    if (less_22):\n",
    "        zod = 'Скорпион'\n",
    "    else:\n",
    "        zod = 'Стрелец'\n",
    "elif (month == 'декабрь'):\n",
    "    if (less_22):\n",
    "        zod = 'Стрелец'\n",
    "    else:\n",
    "        zod = 'Козерог'\n",
    "else:\n",
    "    print('Месяц введён некорректно!')\n",
    "\n",
    "if (zod):\n",
    "    print(zod)\n"
   ]
  },
  {
   "cell_type": "markdown",
   "metadata": {},
   "source": [
    "**Задание 4.** Нужно разработать приложение для финансового планирования. Приложение учитывает сколько уходит на ипотеку, \"на жизнь\" и сколько нужно отложить на пенсию. Пользователь вводит:\n",
    "\n",
    "заработанную плату в месяц.\n",
    "сколько процентов от ЗП уходит на ипотеку.\n",
    "сколько процентов от ЗП уходит \"на жизнь\".\n",
    "сколько раз приходит премия в год.\n",
    "Остальная часть заработанной платы откладывается на пенсию.\n",
    "\n",
    "Также пользователю приходит премия в размере зарплаты, от которой половина уходит на отпуск, а вторая половина откладывается.\n",
    "\n",
    "Программа должна учитывать сколько премий было в год.\n",
    "\n",
    "Нужно вывести сколько денег тратит пользователь на ипотеку и сколько он накопит за год.\n",
    "\n",
    "Пример:\n",
    "\n",
    "Введите заработанную плату в месяц: 100000\n",
    "\n",
    "Введите сколько процентов уходит на ипотеку: 30\n",
    "\n",
    "Введите сколько процентов уходит на жизнь: 50\n",
    "\n",
    "Введите количество премий за год: 2\n",
    "\n",
    "Вывод: На ипотеку было потрачено: 360000 рублей Было накоплено: 340000 рублей"
   ]
  },
  {
   "cell_type": "code",
   "execution_count": 20,
   "metadata": {},
   "outputs": [
    {
     "name": "stdout",
     "output_type": "stream",
     "text": [
      "Введите заработанную плату в месяц: 100000\n",
      "Введите сколько процентов уходит на ипотеку: 30\n",
      "Введите сколько процентов уходит на жизнь: 50\n",
      "Введите количество премий за год: 2\n",
      "На ипотеку было потрачено: 360000 рублей. Было накоплено: 340000 рублей\n"
     ]
    }
   ],
   "source": [
    "salary = int(input('Введите заработанную плату в месяц: '))\n",
    "mortgage_percent = int(input('Введите сколько процентов уходит на ипотеку: '))\n",
    "regular_percent = int(input('Введите сколько процентов уходит на жизнь: '))\n",
    "bonus_qty = int(input('Введите количество премий за год: '))\n",
    "\n",
    "if (salary < 0):\n",
    "    print('Заработная плата не может быть меньше нуля!')\n",
    "elif (bonus_qty < 0):\n",
    "    print('Кол-во премий не может быть отрицательным!')\n",
    "elif (mortgage_percent > 100 or mortgage_percent < 0 or regular_percent > 100 or regular_percent < 0):\n",
    "    print('Числа в процентах должны быть от 0 до 100!')\n",
    "elif (mortgage_percent + regular_percent > 100):\n",
    "    print('Сумма процентов не может быть больше 100!')\n",
    "else:\n",
    "    mortgage = int(salary * mortgage_percent / 100 * 12)\n",
    "    savings = int(salary * (100 - mortgage_percent - regular_percent) / 100 * 12 + salary * bonus_qty / 2)\n",
    "    print('На ипотеку было потрачено: ' + str(mortgage) + ' рублей. Было накоплено: ' + str(savings) + ' рублей')\n",
    "\n"
   ]
  }
 ],
 "metadata": {
  "kernelspec": {
   "display_name": "Python 3",
   "language": "python",
   "name": "python3"
  },
  "language_info": {
   "codemirror_mode": {
    "name": "ipython",
    "version": 3
   },
   "file_extension": ".py",
   "mimetype": "text/x-python",
   "name": "python",
   "nbconvert_exporter": "python",
   "pygments_lexer": "ipython3",
   "version": "3.7.6"
  }
 },
 "nbformat": 4,
 "nbformat_minor": 4
}
