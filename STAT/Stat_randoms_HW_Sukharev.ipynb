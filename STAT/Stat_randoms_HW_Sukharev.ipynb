{
 "cells": [
  {
   "cell_type": "markdown",
   "metadata": {},
   "source": [
    "Смоделировать игру против лотерейного автомата типа “777”. Игрок платит 1 руб., после чего выпадает случайное целое число, равномерно распределенное от 0 до 999. При некоторых значениях числа игрок получает выигрыш (см. справа)  \n",
    "\n",
    "Выгодна ли игра игроку?  \n",
    "Сколько в среднем приобретает или теряет игрок за одну игру?  \n",
    "\n",
    "777: 200 руб.  \n",
    "999: 100 руб.  \n",
    "555: 50 руб.  \n",
    "333: 15 руб.  \n",
    "111: 10 руб.  \n",
    "\\*77: 5 руб.  \n",
    "\\*\\*7: 3 руб.  \n",
    "\\*00: 2 руб.  \n",
    "\\*\\*0: 1 руб.  "
   ]
  },
  {
   "cell_type": "code",
   "execution_count": 3,
   "metadata": {},
   "outputs": [],
   "source": [
    "import numpy as np\n",
    "\n",
    "def game777(x):\n",
    "    if x[2] == '0' and x[1] == '0':\n",
    "        return 2\n",
    "    elif x[2] == '0':\n",
    "        return 1\n",
    "    elif x == '777':\n",
    "        return 200\n",
    "    elif x[2] == '7' and x[1] == '7':\n",
    "        return 5\n",
    "    elif x[2] == '7':\n",
    "        return 3\n",
    "    elif x == '999':\n",
    "        return 100\n",
    "    elif x == '555':\n",
    "        return 50\n",
    "    elif x == '333':\n",
    "        return 15\n",
    "    elif x == '111':\n",
    "        return 10\n",
    "    else:\n",
    "        return 0        "
   ]
  },
  {
   "cell_type": "code",
   "execution_count": 136,
   "metadata": {},
   "outputs": [
    {
     "name": "stdout",
     "output_type": "stream",
     "text": [
      "The sum is 8028826\n",
      "This is within 0.36% from the theoretical result\n"
     ]
    }
   ],
   "source": [
    "trials = 10000000\n",
    "result = 0\n",
    "\n",
    "for i in range(trials):\n",
    "    s = str(np.random.randint(0, 10)) + str(np.random.randint(0, 10)) + str(np.random.randint(0, 10))\n",
    "    result += game777(s)\n",
    "print(f\"The sum is {result}\")\n",
    "print(f\"This is within {round(abs((result / trials - 0.8) / 0.8 * 100), 3)}% from the theoretical result\")\n"
   ]
  },
  {
   "cell_type": "markdown",
   "metadata": {},
   "source": [
    "**Дополнительное задание повышенной сложности**  \n",
    "Теоретически рассчитать средний выигрыш (проигрыш) и сравнить с результатами моделирования"
   ]
  },
  {
   "cell_type": "markdown",
   "metadata": {},
   "source": [
    "Общее кол-во исходов: 1000  \n",
    "\n",
    "Комбинации цифр, выигрыш и кол-во соотв. исходов:  \n",
    "777 - 200 - 1  \n",
    "999 - 100 - 1  \n",
    "555 - 50 - 1  \n",
    "333 - 15 - 1  \n",
    "111 - 10 - 1  \n",
    "\\*77 - 5 - 9  # (10 минус уже учтённый 777, предполагая, что выигрыши не суммируются)  \n",
    "\\*\\*7 - 3 - 90 # (100 минус уже учтённые \\*77)  \n",
    "\\*00 - 2 - 10  \n",
    "\\*\\*0 - 1 - 90 # (100 минус уже учтённые \\*00)  "
   ]
  },
  {
   "cell_type": "code",
   "execution_count": 104,
   "metadata": {},
   "outputs": [
    {
     "name": "stdout",
     "output_type": "stream",
     "text": [
      "Средневзвешенный выигрыш на каждую затраченную 1000:\n",
      "800\n"
     ]
    }
   ],
   "source": [
    "print('Средневзвешенный выигрыш на каждую затраченную 1000:')\n",
    "print(200 * 1 + 100 * 1 + 50 * 1 + 15 * 1 + 10 * 1 + 5 * 9 + 3 * 90 + 2 * 10 + 1 * 90)"
   ]
  }
 ],
 "metadata": {
  "kernelspec": {
   "display_name": "Python 3",
   "language": "python",
   "name": "python3"
  },
  "language_info": {
   "codemirror_mode": {
    "name": "ipython",
    "version": 3
   },
   "file_extension": ".py",
   "mimetype": "text/x-python",
   "name": "python",
   "nbconvert_exporter": "python",
   "pygments_lexer": "ipython3",
   "version": "3.7.6"
  }
 },
 "nbformat": 4,
 "nbformat_minor": 4
}
