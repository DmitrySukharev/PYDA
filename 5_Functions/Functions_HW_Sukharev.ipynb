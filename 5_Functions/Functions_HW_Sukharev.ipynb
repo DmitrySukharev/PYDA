{
 "cells": [
  {
   "cell_type": "markdown",
   "metadata": {},
   "source": [
    "Вы работаете секретарем и вам постоянно приходят различные документы. Вы должны быть очень внимательны, чтобы не потерять ни один документ. Каталог документов хранится в следующем виде:"
   ]
  },
  {
   "cell_type": "code",
   "execution_count": 67,
   "metadata": {},
   "outputs": [],
   "source": [
    "documents = [\n",
    "    {'type': 'passport', 'number': '2207 876234', 'name': 'Василий Гупкин'},\n",
    "    {'type': 'invoice', 'number': '11-2', 'name': 'Геннадий Покемонов'},\n",
    "    {'type': 'insurance', 'number': '10006', 'name': 'Аристарх Павлов'}\n",
    "]"
   ]
  },
  {
   "cell_type": "markdown",
   "metadata": {},
   "source": [
    "Перечень полок, на которых находятся документы хранится в следующем виде:"
   ]
  },
  {
   "cell_type": "code",
   "execution_count": 68,
   "metadata": {},
   "outputs": [],
   "source": [
    "directories = {\n",
    "    '1': ['2207 876234', '11-2'],\n",
    "    '2': ['10006'],\n",
    "    '3': []\n",
    "}"
   ]
  },
  {
   "cell_type": "markdown",
   "metadata": {},
   "source": [
    "Необходимо реализовать пользовательские команды (внимание! это не название функций, которые должны быть выразительными, а команды, которые вводит пользователь, чтобы получить необходимый результат):\n",
    "\n",
    "* p – people – команда, которая спросит номер документа и выведет имя человека, которому он принадлежит;\n",
    "* s – shelf – команда, которая спросит номер документа и выведет номер полки, на которой он находится.  \n",
    "*Правильно обработайте ситуации, когда пользователь будет вводить несуществующий документ.*\n",
    "* l – list – команда, которая выведет список всех документов в формате  \n",
    "**passport \"2207 876234\" \"Василий Гупкин\"**\n",
    "* as – add shelf – команда, которая спросит номер новой полки и добавит ее в перечень. *Предусмотрите случай, когда пользователь добавляет полку, которая уже существует.*\n",
    "* d – delete – команда, которая спросит номер документа и удалит его из каталога и из перечня полок. *Предусмотрите сценарий, когда пользователь вводит несуществующий документ;*\n",
    "* m – move – команда, которая спросит номер документа и целевую полку и переместит его с текущей полки на целевую. *Корректно обработайте кейсы, когда пользователь пытается переместить несуществующий документ или переместить документ на несуществующую полку;*\n",
    "* a – add – команда, которая добавит новый документ в каталог и в перечень полок, спросив его номер, тип, имя владельца и номер полки, на котором он будет храниться. *Корректно обработайте ситуацию, когда пользователь будет пытаться добавить документ на несуществующую полку.*"
   ]
  },
  {
   "cell_type": "code",
   "execution_count": 69,
   "metadata": {},
   "outputs": [],
   "source": [
    "def get_name_by_doc_id(value):\n",
    "    for doc in documents:\n",
    "        if value == doc['number']:\n",
    "            return doc['name']\n",
    "    print('There is no such a document number!')\n",
    "    return"
   ]
  },
  {
   "cell_type": "code",
   "execution_count": 70,
   "metadata": {},
   "outputs": [],
   "source": [
    "def get_shelf_by_doc_id(value):\n",
    "    for dir, docs in directories.items():\n",
    "        if value in docs:\n",
    "            return dir\n",
    "    print('There is no such a document number!')\n",
    "    return"
   ]
  },
  {
   "cell_type": "code",
   "execution_count": 71,
   "metadata": {},
   "outputs": [],
   "source": [
    "def get_list_of_all_docs():\n",
    "    for doc in documents:\n",
    "        print(f\"{doc['type']} \\\"{doc['number']}\\\" \\\"{doc['name']}\\\"\")"
   ]
  },
  {
   "cell_type": "code",
   "execution_count": 72,
   "metadata": {},
   "outputs": [],
   "source": [
    "def add_shelf(value):\n",
    "    if value not in directories.keys():\n",
    "        directories[value] = []\n",
    "        print(f\"A new shelf {value} is added\")\n",
    "    else:\n",
    "        print('There is already such a shelf!')"
   ]
  },
  {
   "cell_type": "code",
   "execution_count": 73,
   "metadata": {},
   "outputs": [],
   "source": [
    "def delete_doc_from_catalog(value):\n",
    "    for doc in documents:\n",
    "        if value == doc['number']:\n",
    "            documents.remove(doc)\n",
    "            print(f\"The document #{value} has been deleted from the catalog.\")\n",
    "            return\n",
    "    else:\n",
    "        print(f\"The document #{value} is not found in the catalog!\")"
   ]
  },
  {
   "cell_type": "code",
   "execution_count": 74,
   "metadata": {},
   "outputs": [],
   "source": [
    "def delete_doc_from_shelves(value):\n",
    "    for shelf_docs in directories.values():\n",
    "        if value in shelf_docs:\n",
    "            shelf_docs.remove(value)\n",
    "            print(f\"The document #{value} has been deleted from the shelves.\")\n",
    "            return\n",
    "    else:\n",
    "        print(f\"The document #{value} is not found on the shelves!\")"
   ]
  },
  {
   "cell_type": "code",
   "execution_count": 75,
   "metadata": {},
   "outputs": [],
   "source": [
    "def move_doc_to_new_shelf(doc_id, target):\n",
    "    old_shelf = get_shelf_by_doc_id(doc_id)\n",
    "    if old_shelf is not None:\n",
    "        if target in directories:\n",
    "            directories[old_shelf].remove(doc_id)\n",
    "            directories[target].append(doc_id)\n",
    "        else:\n",
    "            print('There is no such a shelf! Please add it first.')"
   ]
  },
  {
   "cell_type": "code",
   "execution_count": 76,
   "metadata": {},
   "outputs": [],
   "source": [
    "def add_doc(doc_type, doc_id, name, target):\n",
    "    for doc in documents:\n",
    "        if doc['type'] == doc_type and doc['number'] == doc_id:\n",
    "            print('Forbidden! There is already such a document type / number!')\n",
    "            return\n",
    "    if target not in directories:\n",
    "            print('There is no such a shelf! Please add it first.')\n",
    "    else:\n",
    "            directories[target].append(doc_id)\n",
    "            documents.append({'type': doc_type, 'number': doc_id, 'name': name})\n",
    "            print(f\"The document {doc_type} #{doc_id} has been added to the shelf {target}\")"
   ]
  },
  {
   "cell_type": "code",
   "execution_count": 79,
   "metadata": {},
   "outputs": [
    {
     "name": "stdout",
     "output_type": "stream",
     "text": [
      "Hello!\n",
      "Please enter a command: l\n",
      "passport \"2207 876234\" \"Василий Гупкин\"\n",
      "invoice \"11-2\" \"Геннадий Покемонов\"\n",
      "insurance \"10006\" \"Аристарх Павлов\"\n",
      "Please enter a command: q\n",
      "Bye!\n"
     ]
    }
   ],
   "source": [
    "print('Hello!')\n",
    "while True:\n",
    "    cmd = input('Please enter a command: ')\n",
    "    if cmd == 'p':\n",
    "        doc_id = input('Please enter a document number: ')\n",
    "        if get_name_by_doc_id(doc_id) is not None:\n",
    "            print(get_name_by_doc_id(doc_id))\n",
    "    elif cmd == 's':\n",
    "        doc_id = input('Please enter a document number: ')\n",
    "        if get_shelf_by_doc_id(doc_id) is not None:\n",
    "            print(get_shelf_by_doc_id(doc_id))\n",
    "    elif cmd == 'l':\n",
    "        get_list_of_all_docs()\n",
    "    elif cmd == 'as':\n",
    "        new_shelf = input('Please enter a new shelf id: ')\n",
    "        add_shelf(new_shelf)\n",
    "    elif cmd == 'd':\n",
    "        doc_id = input('Please enter a document number to delete: ')\n",
    "        delete_doc_from_catalog(doc_id)\n",
    "        delete_doc_from_shelves(doc_id)\n",
    "    elif cmd == 'm':\n",
    "        doc_id = input('Please specify a document number to move: ')\n",
    "        target_dir = input('Please enter a new shelf for this document: ')\n",
    "        move_doc_to_new_shelf(doc_id, target_dir)\n",
    "    elif cmd == 'a':\n",
    "        doc_type = input('Please specify a document type to add: ')\n",
    "        doc_id = input('Please specify a document number to add: ')\n",
    "        name = input('Please specify a person name for this document: ')\n",
    "        target_dir = input('Please specify a shelf for this document: ')\n",
    "        add_doc(doc_type, doc_id, name, target_dir)\n",
    "    elif cmd == 'q':\n",
    "        print('Bye!')\n",
    "        break\n",
    "    else:\n",
    "        print('There is no such a command! Type q to exit!')"
   ]
  }
 ],
 "metadata": {
  "kernelspec": {
   "display_name": "Python 3",
   "language": "python",
   "name": "python3"
  },
  "language_info": {
   "codemirror_mode": {
    "name": "ipython",
    "version": 3
   },
   "file_extension": ".py",
   "mimetype": "text/x-python",
   "name": "python",
   "nbconvert_exporter": "python",
   "pygments_lexer": "ipython3",
   "version": "3.7.6"
  }
 },
 "nbformat": 4,
 "nbformat_minor": 4
}
